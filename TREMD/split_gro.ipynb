{
 "cells": [
  {
   "cell_type": "code",
   "execution_count": 3,
   "id": "1668de3f",
   "metadata": {},
   "outputs": [],
   "source": [
    "path = '../ionic_strength/'\n",
    "filename_wt = 'generated_encodermap_wt_150mM_trr.gro'\n",
    "filename_k = 'generated_encodermap_k_165mM_trr.gro'\n",
    "start_wt = 'Good ROcking Metal Altar'\n",
    "start_k = 'GROup of MAchos and Cynical'\n",
    "save_name_wt = 'generated_encodermap_wt_150mM'\n",
    "save_name_k = 'generated_encodermap_k_165mM'\n",
    "\n",
    "num = 0\n",
    "\n",
    "with open(f'{path}{filename_k}', 'r') as input_file:\n",
    "\n",
    "    content = input_file.readlines()\n",
    "    \n",
    "    for line in content:\n",
    "\n",
    "        if line[0:27] == start_k:\n",
    "\n",
    "            num += 1\n",
    "            \n",
    "            with open(f'{path}{save_name_k}_0{num}.gro', 'w') as file:\n",
    "        \n",
    "                file.write(line)\n",
    "            \n",
    "        else:\n",
    "            \n",
    "            with open(f'{path}{save_name_k}_0{num}.gro', 'a') as file:\n",
    "                file.write(line)\n",
    "                "
   ]
  },
  {
   "cell_type": "code",
   "execution_count": null,
   "id": "67078976",
   "metadata": {},
   "outputs": [],
   "source": []
  }
 ],
 "metadata": {
  "kernelspec": {
   "display_name": "Python 3 (ipykernel)",
   "language": "python",
   "name": "python3"
  },
  "language_info": {
   "codemirror_mode": {
    "name": "ipython",
    "version": 3
   },
   "file_extension": ".py",
   "mimetype": "text/x-python",
   "name": "python",
   "nbconvert_exporter": "python",
   "pygments_lexer": "ipython3",
   "version": "3.9.7"
  }
 },
 "nbformat": 4,
 "nbformat_minor": 5
}
